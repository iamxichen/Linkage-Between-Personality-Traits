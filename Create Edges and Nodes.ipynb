{
 "cells": [
  {
   "cell_type": "code",
   "execution_count": 3,
   "metadata": {},
   "outputs": [],
   "source": [
    "import pandas as pd"
   ]
  },
  {
   "cell_type": "code",
   "execution_count": 22,
   "metadata": {},
   "outputs": [],
   "source": [
    "def edges_and_nodes(file_category):\n",
    "    # Splits input data into nodes and edges\n",
    "    file_name = 'data_' + file_category + '.csv'\n",
    "    file_path = './data/' + file_name\n",
    "    data = pd.read_csv(file_path)\n",
    "    \n",
    "    # Edges\n",
    "    correlation = data.iloc[:,1:].corr()\n",
    "    From = []\n",
    "    To = []\n",
    "    sources = []\n",
    "    targets = []\n",
    "    weights = []\n",
    "    negative = []\n",
    "    directionality = []\n",
    "    labels = list(correlation.columns.values)\n",
    "    labels_index = pd.Index(labels)\n",
    "    for i, j in correlation.iterrows():\n",
    "        for col in range(len(j)):\n",
    "            From.append(i)\n",
    "            To.append(j.index[col])\n",
    "            sources.append(labels_index.get_loc(i))\n",
    "            targets.append(labels_index.get_loc(j.index[col]))\n",
    "            if -0.1 <= j[col] <= 0.1 or j[col] == 1:\n",
    "                weights.append(0) \n",
    "            else:\n",
    "                weights.append(j[col]) \n",
    "            if j[col] < 0:\n",
    "                negative.append(True)\n",
    "            else:\n",
    "                negative.append(False)\n",
    "            directionality.append('Undirected')\n",
    "    edges = {'Source': sources, \n",
    "            'Target': targets, \n",
    "            'Weight': weights,\n",
    "            'From': From,\n",
    "            'To': To,\n",
    "            'Negative': negative,\n",
    "            'Type': directionality}\n",
    "    df_edges = pd.DataFrame(edges)\n",
    "    edges_path = './data/' + file_category + '_edges.csv'\n",
    "    df_edges.to_csv(edges_path, sep=',', index = False)\n",
    "    \n",
    "    # Nodes\n",
    "    #ids = list(range(len(correlation.columns.values)))\n",
    "    labels = list(correlation.columns.values)\n",
    "    #nodes = {'Ids': ids,\n",
    "    #    'Labels': labels}\n",
    "    nodes = {'Id': list(range(len(labels))),\n",
    "        'Label': labels}\n",
    "    df_nodes = pd.DataFrame(nodes)\n",
    "    nodes_path = './data/' + file_category + '_nodes.csv'\n",
    "    df_nodes.to_csv(nodes_path ,sep=',', index = False)"
   ]
  },
  {
   "cell_type": "code",
   "execution_count": 23,
   "metadata": {},
   "outputs": [],
   "source": [
    "# Use the function created above\n",
    "\n",
    "edges_and_nodes('music')\n",
    "edges_and_nodes('movie')\n",
    "edges_and_nodes('pho')"
   ]
  },
  {
   "cell_type": "code",
   "execution_count": 15,
   "metadata": {},
   "outputs": [
    {
     "ename": "NameError",
     "evalue": "name 'negative' is not defined",
     "output_type": "error",
     "traceback": [
      "\u001b[1;31m---------------------------------------------------------------------------\u001b[0m",
      "\u001b[1;31mNameError\u001b[0m                                 Traceback (most recent call last)",
      "\u001b[1;32m<ipython-input-15-b1d241a3d10f>\u001b[0m in \u001b[0;36m<module>\u001b[1;34m\u001b[0m\n\u001b[1;32m----> 1\u001b[1;33m \u001b[0mnegative\u001b[0m\u001b[1;33m\u001b[0m\u001b[1;33m\u001b[0m\u001b[0m\n\u001b[0m",
      "\u001b[1;31mNameError\u001b[0m: name 'negative' is not defined"
     ]
    }
   ],
   "source": [
    "negative"
   ]
  },
  {
   "cell_type": "code",
   "execution_count": null,
   "metadata": {},
   "outputs": [],
   "source": []
  }
 ],
 "metadata": {
  "kernelspec": {
   "display_name": "Python 3",
   "language": "python",
   "name": "python3"
  },
  "language_info": {
   "codemirror_mode": {
    "name": "ipython",
    "version": 3
   },
   "file_extension": ".py",
   "mimetype": "text/x-python",
   "name": "python",
   "nbconvert_exporter": "python",
   "pygments_lexer": "ipython3",
   "version": "3.8.5"
  }
 },
 "nbformat": 4,
 "nbformat_minor": 4
}
